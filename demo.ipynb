{
 "cells": [
  {
   "cell_type": "code",
   "execution_count": 1,
   "metadata": {},
   "outputs": [],
   "source": [
    "\n",
    "import os\n",
    "import numpy as np\n",
    "from matplotlib import pyplot as plt\n",
    "from matplotlib import colors\n",
    "import random\n",
    "import pickle\n",
    "\n",
    "RGB_img=True\n",
    "#crop_and_resize = [128,128,32,32] # crop_width, crop_height, resize_width, resize_height\n",
    "crop_and_resize = [128,128,64,64] # crop_width, crop_height, resize_width, resize_height\n",
    "crop_width = crop_and_resize[0]\n",
    "crop_height = crop_and_resize[1]\n",
    "resize_width = crop_and_resize[2]\n",
    "resize_height = crop_and_resize[3]\n",
    "sample_size=10000\n",
    "Ramdom_seed_for_sampling=1005\n"
   ]
  },
  {
   "cell_type": "code",
   "execution_count": 2,
   "metadata": {},
   "outputs": [],
   "source": [
    "file_path1 = os.getcwd()+'/data_to_use/concised_U.pkl'\n",
    "file_path2 = os.getcwd()+'/data_to_use/concised_S.pkl'\n",
    "file_path3 = os.getcwd()+'/data_to_use/concised_V.pkl'\n",
    "\n",
    "with open(file_path1, \"rb\") as f1:\n",
    "    concised_U = pickle.load(f1)\n",
    "with open(file_path2, \"rb\") as f2:\n",
    "    concised_S = pickle.load(f2)\n",
    "with open(file_path3, \"rb\") as f3:\n",
    "    concised_V = pickle.load(f3)\n"
   ]
  },
  {
   "cell_type": "code",
   "execution_count": 3,
   "metadata": {},
   "outputs": [],
   "source": [
    "from ipywidgets import interact, interactive, fixed, interact_manual,Layout\n",
    "import ipywidgets as widgets\n",
    "import time\n",
    "\n",
    "class mvp:\n",
    "\n",
    "    def __init__(self, start_sample, U_matrix, S_matrix, V_matrix, modes_to_tune):\n",
    "\n",
    "        self.U_ModeWise_MaxLoad = U_matrix.max(axis=0, keepdims=0)\n",
    "        self.U_ModeWise_MinLoad = U_matrix.min(axis=0, keepdims=0)\n",
    "        self.U_ModeWise_MeanLoad = U_matrix.mean(axis=0, keepdims=0)\n",
    "        self.U_ModeWise_MaxMinMidLoad = (self.U_ModeWise_MaxLoad - self.U_ModeWise_MinLoad) / 2 + self.U_ModeWise_MinLoad\n",
    "        self.U_ModeWise_MaxMinMidLoad = (self.U_ModeWise_MaxLoad - self.U_ModeWise_MinLoad) / 2 + self.U_ModeWise_MinLoad\n",
    "        \n",
    "        Normalized_U = 2*(U_matrix-self.U_ModeWise_MaxMinMidLoad)/(self.U_ModeWise_MaxLoad-self.U_ModeWise_MinLoad)\n",
    "        Normalized_U_binned=np.around(Normalized_U, decimals=2, out=None)\n",
    "        \n",
    "        self.U_matrix_to_use = Normalized_U_binned\n",
    "        self.S_matrix_to_use = S_matrix\n",
    "        self.V_matrix_to_use = V_matrix\n",
    "        self.modes_to_tune_list = modes_to_tune\n",
    "        self.plot_reshape=(64, 64, 3)\n",
    "        self.initial_sample1 = start_sample\n",
    "\n",
    "        self.customized_U1_sample_original = self.U_matrix_to_use[self.initial_sample1].copy()\n",
    "        self.customized_U1_sample          = self.U_matrix_to_use[self.initial_sample1,:].copy()\n",
    "\n",
    "        # define widgets\n",
    "        self.sample_seed_input1=widgets.IntText(value=900,description='sample ID',disabled=False,layout=Layout(width='50%'))\n",
    "        self.resample_button = widgets.Button(description='resample',disabled=False,layout=Layout(width='25%'))\n",
    "        self.reset_button = widgets.Button(description='reset',layout=Layout(width='25%'))\n",
    "        self.slider_tuning_without_updating_the_plot = widgets.ToggleButton(value=False)\n",
    "        self.Data_type = 'CelebA'\n",
    "        \n",
    "        self.sliders1=[]\n",
    "        self.PC_thumbnails_list = []\n",
    "\n",
    "        for mode in self.modes_to_tune_list:\n",
    "            self.slider1 = widgets.FloatSlider(min=-1.5, max=1.5, step=0.01, value=self.U_matrix_to_use[self.initial_sample1, mode], description = f'mode{mode}', continuous_update = False, layout = Layout(min_width = '300px', align_self=\"stretch\"))\n",
    "            self.PC_thumbnail_output = widgets.Output(layout = Layout(height = '80px',align_self = \"center\",margin = ('0px 0px 0px 0px'),padding = ('0px 0px 0px 0px')))\n",
    "            self.sliders1.append(self.slider1)\n",
    "            self.PC_thumbnails_list.append(self.PC_thumbnail_output)\n",
    "\n",
    "        self.slider_to_mode_dictionary=dict(zip(self.sliders1,self.modes_to_tune_list))\n",
    "        self.PC_thumbnail_to_mode_dictionary = dict(zip(self.PC_thumbnails_list, self.modes_to_tune_list))\n",
    "\n",
    "\n",
    "        ## put thins together\n",
    "        self.sample1_static_output = widgets.Output()\n",
    "        self.sample1_dynamic_output = widgets.Output()\n",
    "        mode_control_list=[]\n",
    "        for _, (slider1, thumbnail) in enumerate(zip(self.PC_thumbnails_list, self.sliders1)):\n",
    "            mode_control_list.append(widgets.HBox([slider1,thumbnail],layout = Layout(align_items = 'stretch')))\n",
    "        self.mode_control_box = widgets.VBox(mode_control_list)\n",
    "\n",
    "        self.image_output_box = widgets.HBox([self.sample1_dynamic_output,self.sample1_static_output])\n",
    "        #self.resample_box = widgets.HBox([self.sample_seed_input1, self.resample_button])\n",
    "        self.resample_box = widgets.HBox([self.resample_button])## hide sample ID\n",
    "        self.final_GUI = widgets.VBox([self.image_output_box, self.resample_box, self.reset_button, self.mode_control_box])\n",
    "\n",
    "        # define button behavoir\n",
    "        for slider in self.sliders1:\n",
    "            slider.observe(self.slider_to_plot, names='value')\n",
    "        self.reset_button.on_click(self.reset1)\n",
    "        self.resample_button.on_click(self.resample)\n",
    "        self.sample_seed_input1.observe(self.reset1, names='value')\n",
    "\n",
    "        self.GUI_initiation()\n",
    "\n",
    "    def GUI_initiation(self):\n",
    "        self.plot_static1(self.customized_U1_sample_original)\n",
    "        self.plot_dynamic1(self.customized_U1_sample)\n",
    "        self.plot_PC_thumbnail()\n",
    "\n",
    "        \n",
    "    def display_GUI(self):\n",
    "        display(self.final_GUI)\n",
    "\n",
    "    def image_recon_from_nob(self, customized_U):\n",
    "        #customized_U_pretreatment=customized_U*(U_ModeWise_MaxLoad-U_ModeWise_MinLoad)/2+U_ModeWise_MeanLoad\n",
    "        customized_U_pretreatment=customized_U*(self.U_ModeWise_MaxLoad-self.U_ModeWise_MinLoad)/2+self.U_ModeWise_MaxMinMidLoad\n",
    "        image_generated = customized_U_pretreatment @ np.diag(self.S_matrix_to_use) @ self.V_matrix_to_use.T\n",
    "        image_generated = (image_generated-np.min(image_generated))/(np.max(image_generated)-np.min(image_generated))\n",
    "        return image_generated\n",
    "    \n",
    "    def plot_dynamic1(self, customized_U1_sample):\n",
    "        with self.sample1_dynamic_output:\n",
    "            self.sample1_dynamic_output.clear_output(wait=True)\n",
    "            fig, axes = plt.subplots(1,1,figsize=(4,5))\n",
    "            divnorm=colors.TwoSlopeNorm(vcenter=0)\n",
    "            Reshaped_toplot = np.ndarray.reshape(self.image_recon_from_nob(customized_U1_sample), self.plot_reshape, order='C')\n",
    "            axes.imshow(Reshaped_toplot, cmap=\"bwr\", norm=divnorm)\n",
    "            axes.set_yticks([])\n",
    "            axes.set_xticks([])\n",
    "            fig.tight_layout()\n",
    "            plt.show(block=False)\n",
    "            plt.close()\n",
    "\n",
    "    def plot_static1(self, customized_U1_sample_original):\n",
    "        with self.sample1_static_output:\n",
    "            self.sample1_static_output.clear_output(wait=True)\n",
    "            fig, axes = plt.subplots(1,1,figsize=(4,5))\n",
    "            divnorm=colors.TwoSlopeNorm(vcenter=0)\n",
    "            Reshaped_toplot = np.ndarray.reshape(self.image_recon_from_nob(customized_U1_sample_original), self.plot_reshape, order='C')\n",
    "            axes.imshow(Reshaped_toplot, cmap=\"bwr\", norm=divnorm)\n",
    "            axes.set_yticks([])\n",
    "            axes.set_xticks([])\n",
    "            fig.tight_layout()\n",
    "            plt.show(block=False)\n",
    "            plt.close()\n",
    "\n",
    "    def plot_PC_thumbnail(self):\n",
    "        for thumbnail in self.PC_thumbnails_list:\n",
    "            mode = self.PC_thumbnail_to_mode_dictionary[thumbnail]\n",
    "            with thumbnail:\n",
    "                thumbnail.clear_output(wait=True)\n",
    "                fig, ax = plt.subplots(1,1,figsize=(0.95,0.95))\n",
    "                if self.Data_type == 'MNIST':\n",
    "                    Reshaped_toplot = np.ndarray.reshape(self.V_matrix_to_use[:, mode], self.plot_reshape, order='C')\n",
    "                    divnorm = colors.TwoSlopeNorm(vcenter=0)\n",
    "                    ax.imshow(np.array(Reshaped_toplot), cmap=\"bwr\", norm = divnorm)\n",
    "                elif self.Data_type == 'CelebA':\n",
    "                    Reshaped_toplot=np.ndarray.reshape(self.V_matrix_to_use[:, mode], self.plot_reshape, order='C')\n",
    "                    image_norm = (Reshaped_toplot-np.min(Reshaped_toplot))/(np.max(Reshaped_toplot)-np.min(Reshaped_toplot))\n",
    "                    ax.imshow(np.array(image_norm), cmap=\"bwr\",vmin=0,vmax=1)\n",
    "                ax.set_yticks([])\n",
    "                ax.set_xticks([])\n",
    "                fig.tight_layout()\n",
    "                plt.show(block=False)\n",
    "                plt.close()\n",
    "\n",
    "    def slider_to_plot(self, change):\n",
    "        input_slider=change.owner\n",
    "        input_value=change.new\n",
    "        input_mode = self.slider_to_mode_dictionary[input_slider]\n",
    "        self.customized_U1_sample[input_mode] = input_value\n",
    "        if self.slider_tuning_without_updating_the_plot.value == False:\n",
    "            self.plot_dynamic1(self.customized_U1_sample)\n",
    "        else:\n",
    "            self.slider_tuning_without_updating_the_plot.value = False\n",
    "\n",
    "    def initialize_sliders1(self):\n",
    "        sample1 = self.sample_seed_input1.value\n",
    "        self.customized_U1_sample = self.U_matrix_to_use[sample1,:].copy()\n",
    "\n",
    "        for idx, slider1 in enumerate(self.sliders1):\n",
    "            mode = self.slider_to_mode_dictionary[slider1]\n",
    "            if idx == len(self.sliders1)-1:\n",
    "                self.slider_tuning_without_updating_the_plot.value = False\n",
    "            else:\n",
    "                self.slider_tuning_without_updating_the_plot.value = True\n",
    "            slider1.value = self.customized_U1_sample[mode]\n",
    "        \n",
    "        self.customized_U1_sample_original = self.U_matrix_to_use[sample1,:].copy()\n",
    "        self.plot_static1(self.customized_U1_sample_original)\n",
    "        self.plot_dynamic1(self.customized_U1_sample)\n",
    "\n",
    "    def reset1(self, b):\n",
    "        self.initialize_sliders1()\n",
    "\n",
    "    def resample(self,change):\n",
    "        self.sample_seed_input1.value = random.sample(range(self.U_matrix_to_use.shape[0]), 1)[0]\n",
    "        self.initialize_sliders1()\n"
   ]
  },
  {
   "cell_type": "code",
   "execution_count": 4,
   "metadata": {},
   "outputs": [
    {
     "data": {
      "application/vnd.jupyter.widget-view+json": {
       "model_id": "bd3016abe34042b3b3db5b5fe2769402",
       "version_major": 2,
       "version_minor": 0
      },
      "text/plain": [
       "VBox(children=(HBox(children=(Output(), Output())), HBox(children=(Button(description='resample', layout=Layou…"
      ]
     },
     "metadata": {},
     "output_type": "display_data"
    },
    {
     "data": {
      "image/png": "[encoded data removed]",
      "text/plain": [
       "<Figure size 400x500 with 1 Axes>"
      ]
     },
     "metadata": {},
     "output_type": "display_data"
    },
    {
     "data": {
      "image/png": "[encoded data removed]",
      "text/plain": [
       "<Figure size 400x500 with 1 Axes>"
      ]
     },
     "metadata": {},
     "output_type": "display_data"
    },
    {
     "data": {
      "image/png": "[encoded data removed]",
      "text/plain": [
       "<Figure size 95x95 with 1 Axes>"
      ]
     },
     "metadata": {},
     "output_type": "display_data"
    },
    {
     "data": {
      "image/png": "[encoded data removed]",
      "text/plain": [
       "<Figure size 95x95 with 1 Axes>"
      ]
     },
     "metadata": {},
     "output_type": "display_data"
    },
    {
     "data": {
      "image/png": "[encoded data removed]",
      "text/plain": [
       "<Figure size 95x95 with 1 Axes>"
      ]
     },
     "metadata": {},
     "output_type": "display_data"
    },
    {
     "data": {
      "image/png": "[encoded data removed]",
      "text/plain": [
       "<Figure size 95x95 with 1 Axes>"
      ]
     },
     "metadata": {},
     "output_type": "display_data"
    }
   ],
   "source": [
    "\n",
    "U_matrix_to_use = concised_U\n",
    "S_matrix_to_use = concised_S\n",
    "V_matrix_to_use = concised_V\n",
    "start_sample = 0\n",
    "modes_to_tune=[7, 8, 9, 33]\n",
    "\n",
    "mvp_1 = mvp(start_sample, U_matrix_to_use, S_matrix_to_use, V_matrix_to_use, modes_to_tune)\n",
    "mvp_1.display_GUI()"
   ]
  },
  {
   "cell_type": "code",
   "execution_count": null,
   "metadata": {},
   "outputs": [],
   "source": []
  },
  {
   "cell_type": "code",
   "execution_count": null,
   "metadata": {},
   "outputs": [],
   "source": []
  }
 ],
 "metadata": {
  "kernelspec": {
   "display_name": "web_demo",
   "language": "python",
   "name": "python3"
  },
  "language_info": {
   "codemirror_mode": {
    "name": "ipython",
    "version": 3
   },
   "file_extension": ".py",
   "mimetype": "text/x-python",
   "name": "python",
   "nbconvert_exporter": "python",
   "pygments_lexer": "ipython3",
   "version": "3.11.8"
  }
 },
 "nbformat": 4,
 "nbformat_minor": 2
}
